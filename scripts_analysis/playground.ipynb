{
 "cells": [
  {
   "cell_type": "code",
   "execution_count": 18,
   "id": "213070b1",
   "metadata": {},
   "outputs": [],
   "source": [
    "\n",
    "import json\n",
    "import os\n",
    "import numpy as np\n",
    "\n",
    "path = \"../data/msit_pilot_outputs/20250904_152123_model-gpt-4.1-nano_sessions-120_mixed-Rm-merged/session_001.json\"\n",
    "with open(path, \"r\") as f:\n",
    "    session_data = json.load(f)\n",
    "    "
   ]
  },
  {
   "cell_type": "code",
   "execution_count": 10,
   "id": "5fb6e383",
   "metadata": {},
   "outputs": [
    {
     "data": {
      "text/plain": [
       "'3 1 3\\\\n1 0 0\\\\n2 2 1\\\\n1 0 0\\\\n1 1 2\\\\n3 2 2\\\\n3 1 3\\\\n3 2 2\\\\n0 2 0\\\\n0 0 3\\\\n3 1 3\\\\n2 2 1\\\\n1 0 0\\\\n2 2 1\\\\n3 2 2\\\\n0 2 0\\\\n0 0 3\\\\n1 3 1\\\\n2 2 1\\\\n0 2 0\\\\n1 3 1\\\\n1 3 1\\\\n0 2 0\\\\n0 2 0\\\\n0 2 0\\\\n1 0 0\\\\n0 2 0\\\\n0 2 0\\\\n3 1 3\\\\n0 0 3\\\\n2 2 1\\\\n1 0 0\\\\n2 3 3\\\\n0 2 0\\\\n1 0 0\\\\n3 1 3\\\\n1 0 0\\\\n1 3 1\\\\n1 1 2\\\\n0 2 0\\\\n2 3 3\\\\n1 1 2\\\\n0 2 0\\\\n2 2 1\\\\n1 1 2\\\\n0 2 0\\\\n0 2 0\\\\n0 0 3\\\\n0 0 3\\\\n1 3 1\\\\n1 3 1\\\\n1 0 0\\\\n3 1 3\\\\n0 0 3\\\\n1 3 1\\\\n3 2 2\\\\n0 0 3\\\\n0 2 0\\\\n0 0 3\\\\n1 0 0\\\\n2 2 1\\\\n2 3 3\\\\n1 0 0\\\\n0 0 3\\\\n3 2 2\\\\n0 0 3\\\\n2 3 3\\\\n0 2 0\\\\n3 1 3\\\\n3 1 3\\\\n0 2 0\\\\n1 3 1\\\\n3 2 2\\\\n0 0 3\\\\n2 3 3\\\\n3 2 2\\\\n1 0 0\\\\n1 0 0\\\\n3 1 3\\\\n0 2 0'"
      ]
     },
     "execution_count": 10,
     "metadata": {},
     "output_type": "execute_result"
    }
   ],
   "source": [
    "session_data[\"stimuli\"]"
   ]
  },
  {
   "cell_type": "code",
   "execution_count": 12,
   "id": "7f09df10",
   "metadata": {},
   "outputs": [
    {
     "data": {
      "text/plain": [
       "dict_keys(['session_id', 'timestamp', 'parameters', 'stimuli', 'correct_answers', 'identities', 'final_types', 'full_input', 'model_response', 'extracted_answers', 'api_time_seconds', 'accuracy'])"
      ]
     },
     "execution_count": 12,
     "metadata": {},
     "output_type": "execute_result"
    }
   ],
   "source": [
    "session_data.keys()"
   ]
  },
  {
   "cell_type": "code",
   "execution_count": 15,
   "id": "0a5232c5",
   "metadata": {},
   "outputs": [
    {
     "name": "stdout",
     "output_type": "stream",
     "text": [
      "[2, 1, 3, 1, 3, 1, 2, 1, 2, 3, 2, 3, 1, 3, 1, 2, 3, 2, 3, 2, 2, 2, 2, 2, 2, 1, 2, 2, 2, 3, 3, 1, 1, 2, 1, 2, 1, 2, 3, 2, 1, 3, 2, 3, 3, 2, 2, 3, 3, 2, 2, 1, 2, 3, 2, 1, 3, 2, 3, 1, 3, 1, 1, 3, 1, 3, 1, 2, 2, 2, 2, 2, 1, 3, 1, 1, 1, 1, 2, 2]\n"
     ]
    }
   ],
   "source": [
    "print(session_data[\"correct_answers\"])"
   ]
  },
  {
   "cell_type": "code",
   "execution_count": 14,
   "id": "aef4a3b4",
   "metadata": {},
   "outputs": [
    {
     "name": "stdout",
     "output_type": "stream",
     "text": [
      "[1, 1, 2, 1, 3, 2, 1, 3, 2, 3, 2, 3, 2, 2, 3, 3, 2, 2, 2, 2, 2, 2, 2, 2, 1, 2, 2, 3, 3, 1, 1, 2, 2, 3, 1, 1, 2, 2, 2, 2, 2, 2, 2, 2, 3, 3, 2, 2, 1, 3, 3, 3, 2, 2, 2, 2, 2, 2, 2, 1, 1, 1, 2, 2, 2, 2, 2, 2, 2, 2, 2, -1, -1, -1, -1, -1, -1, -1, -1, -1]\n"
     ]
    }
   ],
   "source": [
    "print(session_data[\"extracted_answers\"])"
   ]
  },
  {
   "cell_type": "code",
   "execution_count": 28,
   "id": "3042ee52",
   "metadata": {},
   "outputs": [
    {
     "name": "stdout",
     "output_type": "stream",
     "text": [
      "[ 1  1  2  3  2  3  2  2  2  2  1  2  2  3  1  2  3  1  2  2  2  3  2  2\n",
      "  1  3  2  2  2  2  1  2  2  2  2  2 -1 -1 -1 -1]\n",
      "[1 1 2 3 1 2 3 2 2 2 2 1 2 2 3 1 2 1 1 2 2 2 2 3 3 1 3 3 2 3 1 1 3 3 2 2 3\n",
      " 1 1 2]\n"
     ]
    }
   ],
   "source": [
    "sel_bool = [x==0 for x in session_data[\"final_types\"]]\n",
    "print(np.array(session_data[\"extracted_answers\"])[sel_bool])\n",
    "print(np.array(session_data[\"correct_answers\"])[sel_bool])\n",
    "\n"
   ]
  },
  {
   "cell_type": "code",
   "execution_count": null,
   "id": "6600fb44",
   "metadata": {},
   "outputs": [],
   "source": []
  }
 ],
 "metadata": {
  "kernelspec": {
   "display_name": "improve-llm",
   "language": "python",
   "name": "python3"
  },
  "language_info": {
   "codemirror_mode": {
    "name": "ipython",
    "version": 3
   },
   "file_extension": ".py",
   "mimetype": "text/x-python",
   "name": "python",
   "nbconvert_exporter": "python",
   "pygments_lexer": "ipython3",
   "version": "3.9.21"
  }
 },
 "nbformat": 4,
 "nbformat_minor": 5
}
